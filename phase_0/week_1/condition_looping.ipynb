{
 "cells": [
  {
   "cell_type": "markdown",
   "metadata": {},
   "source": [
    "Notes"
   ]
  },
  {
   "cell_type": "markdown",
   "metadata": {},
   "source": [
    "IF STATEMENT\n",
    "\n",
    "Memungkinkan kita untuk menjalankan program apabila kondisi tertentu terpenuhi.\n",
    "\n",
    "Syntax:\n",
    "if (conditional statement)\n",
    "result\n",
    "elif (conditional statement 2)\n",
    "result\n",
    "else:\n",
    "result_2 (if condition is not met)"
   ]
  },
  {
   "cell_type": "code",
   "execution_count": 27,
   "metadata": {},
   "outputs": [
    {
     "name": "stdout",
     "output_type": "stream",
     "text": [
      "11 Iebih dari 10\n"
     ]
    }
   ],
   "source": [
    "angka = 11\n",
    "if angka > 10:\n",
    "    print (f\"{angka} Iebih dari 10\")\n",
    "elif angka == 10:\n",
    "    print (f\"{angka} sama dengan 10\")\n",
    "else:\n",
    "    print (f\"{angka} kecil dari 10\")"
   ]
  },
  {
   "cell_type": "code",
   "execution_count": 2,
   "metadata": {},
   "outputs": [
    {
     "name": "stdout",
     "output_type": "stream",
     "text": [
      "5 adalah angka ganjil\n"
     ]
    }
   ],
   "source": [
    "#Exercise 1 : Pengecekan bilangan genap atau bukan\n",
    "\n",
    "angka= 5 \n",
    "if angka%2 == 0:\n",
    "    print(f'{angka} adalah angka genap')\n",
    "else:\n",
    "    print (f'{angka} adalah angka ganjil')"
   ]
  },
  {
   "cell_type": "code",
   "execution_count": 4,
   "metadata": {},
   "outputs": [
    {
     "name": "stdout",
     "output_type": "stream",
     "text": [
      "abangnya ga jual mie yamin\n"
     ]
    }
   ],
   "source": [
    "#Exercise 2 : pengecekan ketersediaan makanan dalam menu\n",
    "menu = [\"nasi\",\n",
    "        \"mie\",\n",
    "        \"ayam\",\n",
    "        \"penyet\"]\n",
    "makanan = \"mie yamin\"\n",
    "if makanan in menu:\n",
    "    print(f\"abangnya jual {makanan}\")\n",
    "else:\n",
    "    print(f\"abangnya ga jual {makanan}\")"
   ]
  },
  {
   "cell_type": "markdown",
   "metadata": {},
   "source": [
    "NESTED IF\n",
    "\n",
    "Case : Saya mencari tukang buah, jika dia menjual lebih dari 3 buah saya akan mampir, lalu kalo ada buah yang saya inginkan dijual maka saya akan beli."
   ]
  },
  {
   "cell_type": "code",
   "execution_count": 37,
   "metadata": {},
   "outputs": [
    {
     "name": "stdout",
     "output_type": "stream",
     "text": [
      "skip\n"
     ]
    }
   ],
   "source": [
    "tukang_buah = [ \"pisang\", \"pepaya\", \"mangga\"]\n",
    "\n",
    "if len(tukang_buah) > 3:\n",
    "    if \"jeruk\" in tukang_buah:\n",
    "        print (\"beli\")\n",
    "    else:\n",
    "        print(\"mampir aja\")\n",
    "else:\n",
    "    print(\"skip\")\n"
   ]
  },
  {
   "cell_type": "markdown",
   "metadata": {},
   "source": [
    "Case : Mencari tukang buah yang menjual jeruk dan mangga, maka akan mampir."
   ]
  },
  {
   "cell_type": "code",
   "execution_count": 40,
   "metadata": {},
   "outputs": [
    {
     "name": "stdout",
     "output_type": "stream",
     "text": [
      "mampir\n"
     ]
    }
   ],
   "source": [
    "tukang_buah = [ \"pisang\", \"jeruk\", \"mangga\"]\n",
    "if \"jeruk\" in tukang_buah and \"mangga\" in tukang_buah:\n",
    "    print (\"mampir\")\n",
    "else:\n",
    "    print(\"skip\") \n",
    "    \n",
    "    #note:\n",
    "    #and sama dengan x (+ dan + jadi +, - dan + jadi -)\n",
    "    #or sama dnegan +\n"
   ]
  },
  {
   "cell_type": "code",
   "execution_count": 62,
   "metadata": {},
   "outputs": [
    {
     "name": "stdout",
     "output_type": "stream",
     "text": [
      "E\n"
     ]
    }
   ],
   "source": [
    "#Exercise 3 : Penentuan Nilai\n",
    "#Ketentuan Nilai :\n",
    "#A = 80-100\n",
    "#B = 65-79\n",
    "#C = 40-64\n",
    "#D = 20-39\n",
    "#E = 0-19\n",
    "\n",
    "nilai = input (\"masukkan nilai: \")\n",
    "if nilai.isnumeric():\n",
    "    nilai = float (nilai)\n",
    "\n",
    "    if nilai >=0 and nilai <= 100:\n",
    "        if nilai >= 80:\n",
    "            print (\"A\")\n",
    "        elif nilai >= 65 and nilai < 80:\n",
    "            print (\"B\")\n",
    "        elif nilai >= 40 and nilai < 65:\n",
    "            print (\"C\")\n",
    "        elif nilai >= 20 and nilai < 40:\n",
    "            print (\"D\")\n",
    "        elif nilai > 0 and nilai < 20:\n",
    "            print (\"E\")   \n",
    "    else :\n",
    "        print (\"invalid\")\n",
    "else:\n",
    "    print (\"input bukan angka\")"
   ]
  },
  {
   "cell_type": "markdown",
   "metadata": {},
   "source": [
    "LOOPING\n",
    "\n",
    "Terdapat 2 Jenis:\n",
    "\n",
    "-While loop : selama\n",
    "\n",
    "-For loop : untuk setiap"
   ]
  },
  {
   "cell_type": "code",
   "execution_count": 9,
   "metadata": {},
   "outputs": [
    {
     "name": "stdout",
     "output_type": "stream",
     "text": [
      "iterasi ke: 0\n",
      "iterasi ke: 1\n",
      "iterasi ke: 2\n",
      "iterasi ke: 3\n",
      "iterasi ke: 4\n"
     ]
    }
   ],
   "source": [
    "#while loop\n",
    "\n",
    "i=0\n",
    "while i < 5:\n",
    "    print(f'iterasi ke: {i}')\n",
    "    i = i + 1"
   ]
  },
  {
   "cell_type": "code",
   "execution_count": 10,
   "metadata": {},
   "outputs": [
    {
     "name": "stdout",
     "output_type": "stream",
     "text": [
      "pesanan anda : ['ayam', 'kaki', 'babi']\n"
     ]
    }
   ],
   "source": [
    "#while loop\n",
    "pesanan = []\n",
    "pesan = \"\"\n",
    "while pesan != \"cukup\":\n",
    "    pesan = input(\"masukkan pesanan anda : \")\n",
    "    if pesan != \"cukup\":\n",
    "        pesanan.append(pesan)\n",
    "print (f'pesanan anda : {pesanan}')"
   ]
  },
  {
   "cell_type": "code",
   "execution_count": 11,
   "metadata": {},
   "outputs": [
    {
     "name": "stdout",
     "output_type": "stream",
     "text": [
      "1 x 1 = 1\n",
      "1 x 2 = 2\n",
      "1 x 3 = 3\n",
      "1 x 4 = 4\n",
      "1 x 5 = 5\n",
      "1 x 6 = 6\n",
      "1 x 7 = 7\n",
      "1 x 8 = 8\n",
      "1 x 9 = 9\n",
      "1 x 10 = 10\n",
      "***************\n",
      "2 x 1 = 2\n",
      "2 x 2 = 4\n",
      "2 x 3 = 6\n",
      "2 x 4 = 8\n",
      "2 x 5 = 10\n",
      "2 x 6 = 12\n",
      "2 x 7 = 14\n",
      "2 x 8 = 16\n",
      "2 x 9 = 18\n",
      "2 x 10 = 20\n",
      "***************\n",
      "3 x 1 = 3\n",
      "3 x 2 = 6\n",
      "3 x 3 = 9\n",
      "3 x 4 = 12\n",
      "3 x 5 = 15\n",
      "3 x 6 = 18\n",
      "3 x 7 = 21\n",
      "3 x 8 = 24\n",
      "3 x 9 = 27\n",
      "3 x 10 = 30\n",
      "***************\n",
      "4 x 1 = 4\n",
      "4 x 2 = 8\n",
      "4 x 3 = 12\n",
      "4 x 4 = 16\n",
      "4 x 5 = 20\n",
      "4 x 6 = 24\n",
      "4 x 7 = 28\n",
      "4 x 8 = 32\n",
      "4 x 9 = 36\n",
      "4 x 10 = 40\n",
      "***************\n",
      "5 x 1 = 5\n",
      "5 x 2 = 10\n",
      "5 x 3 = 15\n",
      "5 x 4 = 20\n",
      "5 x 5 = 25\n",
      "5 x 6 = 30\n",
      "5 x 7 = 35\n",
      "5 x 8 = 40\n",
      "5 x 9 = 45\n",
      "5 x 10 = 50\n",
      "***************\n",
      "6 x 1 = 6\n",
      "6 x 2 = 12\n",
      "6 x 3 = 18\n",
      "6 x 4 = 24\n",
      "6 x 5 = 30\n",
      "6 x 6 = 36\n",
      "6 x 7 = 42\n",
      "6 x 8 = 48\n",
      "6 x 9 = 54\n",
      "6 x 10 = 60\n",
      "***************\n",
      "7 x 1 = 7\n",
      "7 x 2 = 14\n",
      "7 x 3 = 21\n",
      "7 x 4 = 28\n",
      "7 x 5 = 35\n",
      "7 x 6 = 42\n",
      "7 x 7 = 49\n",
      "7 x 8 = 56\n",
      "7 x 9 = 63\n",
      "7 x 10 = 70\n",
      "***************\n",
      "8 x 1 = 8\n",
      "8 x 2 = 16\n",
      "8 x 3 = 24\n",
      "8 x 4 = 32\n",
      "8 x 5 = 40\n",
      "8 x 6 = 48\n",
      "8 x 7 = 56\n",
      "8 x 8 = 64\n",
      "8 x 9 = 72\n",
      "8 x 10 = 80\n",
      "***************\n",
      "9 x 1 = 9\n",
      "9 x 2 = 18\n",
      "9 x 3 = 27\n",
      "9 x 4 = 36\n",
      "9 x 5 = 45\n",
      "9 x 6 = 54\n",
      "9 x 7 = 63\n",
      "9 x 8 = 72\n",
      "9 x 9 = 81\n",
      "9 x 10 = 90\n",
      "***************\n",
      "10 x 1 = 10\n",
      "10 x 2 = 20\n",
      "10 x 3 = 30\n",
      "10 x 4 = 40\n",
      "10 x 5 = 50\n",
      "10 x 6 = 60\n",
      "10 x 7 = 70\n",
      "10 x 8 = 80\n",
      "10 x 9 = 90\n",
      "10 x 10 = 100\n",
      "***************\n"
     ]
    }
   ],
   "source": [
    "#nested while\n",
    "\n",
    "i = 1\n",
    "j = 1\n",
    "\n",
    "while j <= 10:\n",
    "    while i <=10:\n",
    "        print(f'{j} x {i} = {j*i}')\n",
    "        i = i+1\n",
    "    j = j+1\n",
    "    i = 1\n",
    "    print(\"*\"*15)"
   ]
  },
  {
   "cell_type": "code",
   "execution_count": 13,
   "metadata": {},
   "outputs": [
    {
     "name": "stdout",
     "output_type": "stream",
     "text": [
      "abang ini menjual pepaya\n",
      "abang ini menjual mangga\n",
      "abang ini menjual pisang\n",
      "abang ini menjual jambu\n"
     ]
    }
   ],
   "source": [
    "#while loop\n",
    "\n",
    "daftar_buah = [\"pepaya\", \"mangga\", \"pisang\", \"jambu\"]\n",
    "buah = 0\n",
    "\n",
    "while buah < len(daftar_buah):\n",
    "    print(f'abang ini menjual {daftar_buah[buah]}')\n",
    "    buah = buah +1\n",
    "\n"
   ]
  },
  {
   "cell_type": "code",
   "execution_count": 19,
   "metadata": {},
   "outputs": [
    {
     "name": "stdout",
     "output_type": "stream",
     "text": [
      "abang ini menjual pepaya\n",
      "abang ini menjual mangga\n",
      "abang ini menjual pisang\n",
      "abang ini menjual jambu\n"
     ]
    }
   ],
   "source": [
    "#for loop\n",
    "\n",
    "for buah in [0,1,2,3]:\n",
    "    print(f'abang ini menjual {daftar_buah[buah]}')"
   ]
  },
  {
   "cell_type": "code",
   "execution_count": 21,
   "metadata": {},
   "outputs": [
    {
     "name": "stdout",
     "output_type": "stream",
     "text": [
      "abang ini menjual buah pepaya\n",
      "abang ini menjual buah mangga\n",
      "abang ini menjual buah pisang\n",
      "abang ini menjual buah jambu\n"
     ]
    }
   ],
   "source": [
    "#for loop ,menggunakan range\n",
    "\n",
    "for i in range(len(daftar_buah)):\n",
    "    print (f\"abang ini menjual buah {daftar_buah[i]}\")"
   ]
  },
  {
   "cell_type": "code",
   "execution_count": 23,
   "metadata": {},
   "outputs": [
    {
     "name": "stdout",
     "output_type": "stream",
     "text": [
      "7x 1 = 7\n",
      "7x 2 = 14\n",
      "7x 3 = 21\n",
      "7x 4 = 28\n",
      "7x 5 = 35\n",
      "7x 6 = 42\n",
      "7x 7 = 49\n",
      "7x 8 = 56\n",
      "7x 9 = 63\n",
      "7x 10 = 70\n"
     ]
    }
   ],
   "source": [
    "#for loop\n",
    "\n",
    "for i in range(1,11):\n",
    "    print(f'7x {i} = {7*i}')"
   ]
  },
  {
   "cell_type": "code",
   "execution_count": 32,
   "metadata": {},
   "outputs": [
    {
     "name": "stdout",
     "output_type": "stream",
     "text": [
      "1 x 1 = 1\n",
      "1 x 1 = 1\n",
      "1 x 1 = 1\n",
      "1 x 1 = 1\n",
      "1 x 1 = 1\n",
      "1 x 1 = 1\n",
      "1 x 1 = 1\n",
      "1 x 1 = 1\n",
      "1 x 1 = 1\n",
      "1 x 1 = 1\n",
      "===============\n",
      "2 x 1 = 2\n",
      "2 x 1 = 2\n",
      "2 x 1 = 2\n",
      "2 x 1 = 2\n",
      "2 x 1 = 2\n",
      "2 x 1 = 2\n",
      "2 x 1 = 2\n",
      "2 x 1 = 2\n",
      "2 x 1 = 2\n",
      "2 x 1 = 2\n",
      "===============\n",
      "3 x 1 = 3\n",
      "3 x 1 = 3\n",
      "3 x 1 = 3\n",
      "3 x 1 = 3\n",
      "3 x 1 = 3\n",
      "3 x 1 = 3\n",
      "3 x 1 = 3\n",
      "3 x 1 = 3\n",
      "3 x 1 = 3\n",
      "3 x 1 = 3\n",
      "===============\n",
      "4 x 1 = 4\n",
      "4 x 1 = 4\n",
      "4 x 1 = 4\n",
      "4 x 1 = 4\n",
      "4 x 1 = 4\n",
      "4 x 1 = 4\n",
      "4 x 1 = 4\n",
      "4 x 1 = 4\n",
      "4 x 1 = 4\n",
      "4 x 1 = 4\n",
      "===============\n",
      "5 x 1 = 5\n",
      "5 x 1 = 5\n",
      "5 x 1 = 5\n",
      "5 x 1 = 5\n",
      "5 x 1 = 5\n",
      "5 x 1 = 5\n",
      "5 x 1 = 5\n",
      "5 x 1 = 5\n",
      "5 x 1 = 5\n",
      "5 x 1 = 5\n",
      "===============\n",
      "6 x 1 = 6\n",
      "6 x 1 = 6\n",
      "6 x 1 = 6\n",
      "6 x 1 = 6\n",
      "6 x 1 = 6\n",
      "6 x 1 = 6\n",
      "6 x 1 = 6\n",
      "6 x 1 = 6\n",
      "6 x 1 = 6\n",
      "6 x 1 = 6\n",
      "===============\n",
      "7 x 1 = 7\n",
      "7 x 1 = 7\n",
      "7 x 1 = 7\n",
      "7 x 1 = 7\n",
      "7 x 1 = 7\n",
      "7 x 1 = 7\n",
      "7 x 1 = 7\n",
      "7 x 1 = 7\n",
      "7 x 1 = 7\n",
      "7 x 1 = 7\n",
      "===============\n",
      "8 x 1 = 8\n",
      "8 x 1 = 8\n",
      "8 x 1 = 8\n",
      "8 x 1 = 8\n",
      "8 x 1 = 8\n",
      "8 x 1 = 8\n",
      "8 x 1 = 8\n",
      "8 x 1 = 8\n",
      "8 x 1 = 8\n",
      "8 x 1 = 8\n",
      "===============\n",
      "9 x 1 = 9\n",
      "9 x 1 = 9\n",
      "9 x 1 = 9\n",
      "9 x 1 = 9\n",
      "9 x 1 = 9\n",
      "9 x 1 = 9\n",
      "9 x 1 = 9\n",
      "9 x 1 = 9\n",
      "9 x 1 = 9\n",
      "9 x 1 = 9\n",
      "===============\n",
      "10 x 1 = 10\n",
      "10 x 1 = 10\n",
      "10 x 1 = 10\n",
      "10 x 1 = 10\n",
      "10 x 1 = 10\n",
      "10 x 1 = 10\n",
      "10 x 1 = 10\n",
      "10 x 1 = 10\n",
      "10 x 1 = 10\n",
      "10 x 1 = 10\n",
      "===============\n"
     ]
    }
   ],
   "source": [
    "#for loop\n",
    "\n",
    "for j in range(1,11):\n",
    "    for i in range (1,11):\n",
    "        print(f'{j} x {1} = {j*1}')\n",
    "    print (\"=\"*15)"
   ]
  },
  {
   "cell_type": "code",
   "execution_count": null,
   "metadata": {},
   "outputs": [],
   "source": []
  }
 ],
 "metadata": {
  "interpreter": {
   "hash": "07efdcd4b820c98a756949507a4d29d7862823915ec7477944641bea022f4f62"
  },
  "kernelspec": {
   "display_name": "Python 3.9.7 ('base')",
   "language": "python",
   "name": "python3"
  },
  "language_info": {
   "codemirror_mode": {
    "name": "ipython",
    "version": 3
   },
   "file_extension": ".py",
   "mimetype": "text/x-python",
   "name": "python",
   "nbconvert_exporter": "python",
   "pygments_lexer": "ipython3",
   "version": "3.9.7"
  },
  "orig_nbformat": 4
 },
 "nbformat": 4,
 "nbformat_minor": 2
}
