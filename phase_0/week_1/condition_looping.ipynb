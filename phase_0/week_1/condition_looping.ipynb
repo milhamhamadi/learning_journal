{
 "cells": [
  {
   "cell_type": "code",
   "execution_count": 27,
   "metadata": {},
   "outputs": [
    {
     "name": "stdout",
     "output_type": "stream",
     "text": [
      "11 Iebih dari 10\n"
     ]
    }
   ],
   "source": [
    "angka = 11\n",
    "if angka > 10:\n",
    "    print (f\"{angka} Iebih dari 10\")\n",
    "elif angka == 10:\n",
    "    print (f\"{angka} sama dengan 10\")\n",
    "else:\n",
    "    print (f\"{angka} kecil dari 10\")"
   ]
  },
  {
   "cell_type": "code",
   "execution_count": 38,
   "metadata": {},
   "outputs": [],
   "source": [
    "menu = [\"nasi\",\n",
    "        \"mie\",\n",
    "        \"ayam\",\n",
    "        \"penyet\"]\n",
    " "
   ]
  },
  {
   "cell_type": "code",
   "execution_count": 30,
   "metadata": {},
   "outputs": [
    {
     "name": "stdout",
     "output_type": "stream",
     "text": [
      "abangnya ga jual mie yamin\n"
     ]
    }
   ],
   "source": [
    "makanan = \"mie yamin\"\n",
    "if makanan in menu:\n",
    "    print(f\"abangnya jual {makanan}\")\n",
    "else:\n",
    "    print(f\"abangnya ga jual {makanan}\")"
   ]
  },
  {
   "cell_type": "code",
   "execution_count": 37,
   "metadata": {},
   "outputs": [
    {
     "name": "stdout",
     "output_type": "stream",
     "text": [
      "skip\n"
     ]
    }
   ],
   "source": [
    "tukang_buah = [ \"pisang\", \"pepaya\", \"mangga\"]\n",
    "\n",
    "if len(tukang_buah) > 3:\n",
    "    if \"jeruk\" in tukang_buah:\n",
    "        print (\"beli\")\n",
    "    else:\n",
    "        print(\"mampir aja\")\n",
    "else:\n",
    "    print(\"skip\")\n"
   ]
  },
  {
   "cell_type": "code",
   "execution_count": 40,
   "metadata": {},
   "outputs": [
    {
     "name": "stdout",
     "output_type": "stream",
     "text": [
      "mampir\n"
     ]
    }
   ],
   "source": [
    "tukang_buah = [ \"pisang\", \"jeruk\", \"mangga\"]\n",
    "if \"jeruk\" in tukang_buah and \"mangga\" in tukang_buah:\n",
    "    print (\"mampir\")\n",
    "else:\n",
    "    print(\"skip\") #and sama dengan x\n",
    "    #or sama dnegan +\n"
   ]
  },
  {
   "cell_type": "code",
   "execution_count": 62,
   "metadata": {},
   "outputs": [
    {
     "name": "stdout",
     "output_type": "stream",
     "text": [
      "E\n"
     ]
    }
   ],
   "source": [
    "nilai = input (\"masukkan nilai: \")\n",
    "if nilai.isnumeric():\n",
    "    nilai = float (nilai)\n",
    "\n",
    "    if nilai >=0 and nilai <= 100:\n",
    "        if nilai >= 80:\n",
    "            print (\"A\")\n",
    "        elif nilai >= 65 and nilai < 80:\n",
    "            print (\"B\")\n",
    "        elif nilai >= 40 and nilai < 65:\n",
    "            print (\"C\")\n",
    "        elif nilai >= 20 and nilai < 40:\n",
    "            print (\"D\")\n",
    "        elif nilai > 0 and nilai < 20:\n",
    "            print (\"E\")   \n",
    "    else :\n",
    "        print (\"invalid\")\n",
    "else:\n",
    "    print (\"input bukan angka\")"
   ]
  },
  {
   "cell_type": "markdown",
   "metadata": {},
   "source": [
    "LOOPING\n"
   ]
  },
  {
   "cell_type": "code",
   "execution_count": null,
   "metadata": {},
   "outputs": [],
   "source": []
  }
 ],
 "metadata": {
  "interpreter": {
   "hash": "07efdcd4b820c98a756949507a4d29d7862823915ec7477944641bea022f4f62"
  },
  "kernelspec": {
   "display_name": "Python 3.9.7 ('base')",
   "language": "python",
   "name": "python3"
  },
  "language_info": {
   "codemirror_mode": {
    "name": "ipython",
    "version": 3
   },
   "file_extension": ".py",
   "mimetype": "text/x-python",
   "name": "python",
   "nbconvert_exporter": "python",
   "pygments_lexer": "ipython3",
   "version": "3.9.7"
  },
  "orig_nbformat": 4
 },
 "nbformat": 4,
 "nbformat_minor": 2
}
