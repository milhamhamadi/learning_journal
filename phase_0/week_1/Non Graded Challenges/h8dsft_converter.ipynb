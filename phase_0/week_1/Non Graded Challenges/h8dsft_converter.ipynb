{
 "cells": [
  {
   "cell_type": "markdown",
   "metadata": {},
   "source": [
    "## Non Graded Challenge 2"
   ]
  },
  {
   "cell_type": "code",
   "execution_count": 1,
   "metadata": {},
   "outputs": [],
   "source": [
    "import numpy as np #to import numpy and change it to variable to make it easier"
   ]
  },
  {
   "cell_type": "markdown",
   "metadata": {},
   "source": [
    "Function to convert Celcius to Kelvin and vice versa"
   ]
  },
  {
   "cell_type": "code",
   "execution_count": 36,
   "metadata": {},
   "outputs": [
    {
     "name": "stdout",
     "output_type": "stream",
     "text": [
      "20 degree Kelvin is equals to -253 degree Celcius\n"
     ]
    }
   ],
   "source": [
    "def convert(t, deg_in): #using two parameter to differentiate the input either kelvin/celcius\n",
    "    if deg_in == 'C': #input in celcius and convert to kelvin\n",
    "        kelv = round((t + 273.15),2)\n",
    "        print(f'{t} degree Celcius is equals to {kelv} degree Kelvin ')\n",
    "    elif deg_in == 'K': #input in kelvin and convert to celcius\n",
    "        celc =round((t - 273),2) \n",
    "        print (f'{t} degree Kelvin is equals to {celc} degree Celcius')\n",
    "convert(20, 'K') #input two parameter"
   ]
  },
  {
   "cell_type": "markdown",
   "metadata": {},
   "source": [
    "Function to convert Temperature to and from Fahrenheit with parameter to confirm the input and output temperature either Celcius or Kelvin"
   ]
  },
  {
   "cell_type": "code",
   "execution_count": 35,
   "metadata": {},
   "outputs": [
    {
     "name": "stdout",
     "output_type": "stream",
     "text": [
      "20 degree Fahrenheit is equals to 264.98 degree Kelvin\n"
     ]
    }
   ],
   "source": [
    "def convert(t1, deg_in1, deg_out1): #using three parameter to differentiate the input and output either k/c/f\n",
    "    if deg_in1 == 'C': #input in celcius and convert to fahrenheit with math formula\n",
    "            c_f = round(((t1 * 1.8) + 32),2) #using round to limit the decimal to two numbers\n",
    "            print(f'{t1} degree Celcius is equals to {c_f} degree Fahrenheit ')\n",
    "    elif deg_in1 == 'K': #input in kelvin and convert to fahrenheit with math formula\n",
    "            k_f = round((1.8 * (t1 - 273) + 32),2)\n",
    "            print (f'{t1} degree Kelvin is equals to {k_f} degree Fahrenheit')\n",
    "    elif deg_in1 == 'F': #input in fahrenheit and convert to kelvin\n",
    "        if deg_out1 == 'C':\n",
    "            f_c = round(((5/9) * (t1 - 32)), 2)\n",
    "            print(f'{t1} degree Fahrenheit is equals to {f_c} degree Celcius')\n",
    "        elif deg_out1== 'K' :\n",
    "            f_k = round(((t1 + 456.97) * (5/9)),2)\n",
    "            print(f'{t1} degree Fahrenheit is equals to {f_k} degree Kelvin')\n",
    "convert(20, 'F', 'K') #must input all the parameters"
   ]
  },
  {
   "cell_type": "code",
   "execution_count": null,
   "metadata": {},
   "outputs": [],
   "source": []
  }
 ],
 "metadata": {
  "interpreter": {
   "hash": "07efdcd4b820c98a756949507a4d29d7862823915ec7477944641bea022f4f62"
  },
  "kernelspec": {
   "display_name": "Python 3.9.7 ('base')",
   "language": "python",
   "name": "python3"
  },
  "language_info": {
   "codemirror_mode": {
    "name": "ipython",
    "version": 3
   },
   "file_extension": ".py",
   "mimetype": "text/x-python",
   "name": "python",
   "nbconvert_exporter": "python",
   "pygments_lexer": "ipython3",
   "version": "3.9.7"
  },
  "orig_nbformat": 4
 },
 "nbformat": 4,
 "nbformat_minor": 2
}
