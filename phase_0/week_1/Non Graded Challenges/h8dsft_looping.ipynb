{
 "cells": [
  {
   "cell_type": "markdown",
   "metadata": {},
   "source": [
    "Non Graded Challenge 1"
   ]
  },
  {
   "cell_type": "code",
   "execution_count": 1,
   "metadata": {},
   "outputs": [
    {
     "name": "stdout",
     "output_type": "stream",
     "text": [
      "402\n",
      "984\n",
      "360\n",
      "408\n",
      "980\n",
      "544\n",
      "390\n",
      "984\n",
      "592\n",
      "236\n",
      "942\n",
      "386\n",
      "462\n",
      "418\n",
      "344\n",
      "236\n",
      "566\n",
      "978\n",
      "328\n",
      "162\n",
      "758\n",
      "918\n",
      "Done\n"
     ]
    }
   ],
   "source": [
    "#while loop\n",
    "numbers = [951, 402, 984, 651, 360, 69, 408, 319, 601, 485, 980, 507, 725, 547, \n",
    "544, 615, 83, 165, 141, 501, 263, 617, 865, 575, 219, 390, 984, 592, \n",
    "236, 105, 942, 941, 386, 462, 47, 418, 907, 344, 236, 375, 823, 566, \n",
    "597, 978, 328, 615, 953, 345, 399, 162, 758, 219, 918, 237, 412, 566, \n",
    "826, 248, 866, 950, 626, 949]\n",
    "i = 0\n",
    "while i <= numbers.index(918):\n",
    "    if numbers[i] % 2 == 0:\n",
    "        print(f\"{numbers[i]}\")\n",
    "    i = i + 1\n",
    "print(\"Done\")\n",
    "\n",
    "        "
   ]
  },
  {
   "cell_type": "code",
   "execution_count": 3,
   "metadata": {},
   "outputs": [
    {
     "name": "stdout",
     "output_type": "stream",
     "text": [
      "402\n",
      "984\n",
      "360\n",
      "408\n",
      "980\n",
      "544\n",
      "390\n",
      "984\n",
      "592\n",
      "236\n",
      "942\n",
      "386\n",
      "462\n",
      "418\n",
      "344\n",
      "236\n",
      "566\n",
      "978\n",
      "328\n",
      "162\n",
      "758\n",
      "918\n",
      "Done\n"
     ]
    }
   ],
   "source": [
    "#for loop\n",
    "numbers = [951, 402, 984, 651, 360, 69, 408, 319, 601, 485, 980, 507, 725, 547, \n",
    "544, 615, 83, 165, 141, 501, 263, 617, 865, 575, 219, 390, 984, 592, \n",
    "236, 105, 942, 941, 386, 462, 47, 418, 907, 344, 236, 375, 823, 566, \n",
    "597, 978, 328, 615, 953, 345, 399, 162, 758, 219, 918, 237, 412, 566, \n",
    "826, 248, 866, 950, 626, 949]\n",
    "\n",
    "for i in numbers[:numbers.index(237)]:\n",
    "    if i % 2 == 0:\n",
    "        print(i)\n",
    "print(\"Done\")\n",
    "        "
   ]
  },
  {
   "cell_type": "code",
   "execution_count": null,
   "metadata": {},
   "outputs": [],
   "source": []
  }
 ],
 "metadata": {
  "interpreter": {
   "hash": "07efdcd4b820c98a756949507a4d29d7862823915ec7477944641bea022f4f62"
  },
  "kernelspec": {
   "display_name": "Python 3.9.7 ('base')",
   "language": "python",
   "name": "python3"
  },
  "language_info": {
   "codemirror_mode": {
    "name": "ipython",
    "version": 3
   },
   "file_extension": ".py",
   "mimetype": "text/x-python",
   "name": "python",
   "nbconvert_exporter": "python",
   "pygments_lexer": "ipython3",
   "version": "3.9.7"
  },
  "orig_nbformat": 4
 },
 "nbformat": 4,
 "nbformat_minor": 2
}
